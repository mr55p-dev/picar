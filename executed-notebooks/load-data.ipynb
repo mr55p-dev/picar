{
 "cells": [
  {
   "cell_type": "code",
   "execution_count": 1,
   "id": "63a4a25f",
   "metadata": {
    "execution": {
     "iopub.execute_input": "2022-03-22T15:34:18.789479Z",
     "iopub.status.busy": "2022-03-22T15:34:18.788991Z",
     "iopub.status.idle": "2022-03-22T15:34:18.802998Z",
     "shell.execute_reply": "2022-03-22T15:34:18.802456Z"
    },
    "papermill": {
     "duration": 0.035643,
     "end_time": "2022-03-22T15:34:18.805164",
     "exception": false,
     "start_time": "2022-03-22T15:34:18.769521",
     "status": "completed"
    },
    "tags": [
     "parameters"
    ]
   },
   "outputs": [],
   "source": [
    "# declare a list tasks whose products you want to use as inputs\n",
    "upstream = None"
   ]
  },
  {
   "cell_type": "code",
   "execution_count": 2,
   "id": "f317e1ee",
   "metadata": {
    "execution": {
     "iopub.execute_input": "2022-03-22T15:34:18.819152Z",
     "iopub.status.busy": "2022-03-22T15:34:18.818810Z",
     "iopub.status.idle": "2022-03-22T15:34:18.821569Z",
     "shell.execute_reply": "2022-03-22T15:34:18.821205Z"
    },
    "papermill": {
     "duration": 0.010168,
     "end_time": "2022-03-22T15:34:18.822932",
     "exception": false,
     "start_time": "2022-03-22T15:34:18.812764",
     "status": "completed"
    },
    "tags": [
     "injected-parameters"
    ]
   },
   "outputs": [],
   "source": [
    "# Parameters\n",
    "product = {\"nb\": \"/Users/ellis/Documents/MSc/2. MLiS II/picar/executed-notebooks/load-data.ipynb\", \"images\": \"/Users/ellis/Documents/MSc/2. MLiS II/picar/products/img-loaded.npy\", \"labels\": \"/Users/ellis/Documents/MSc/2. MLiS II/picar/products/lab-loaded.npy\"}\n"
   ]
  },
  {
   "cell_type": "code",
   "execution_count": 3,
   "id": "6829919d",
   "metadata": {
    "execution": {
     "iopub.execute_input": "2022-03-22T15:34:18.832288Z",
     "iopub.status.busy": "2022-03-22T15:34:18.832141Z",
     "iopub.status.idle": "2022-03-22T15:34:19.163304Z",
     "shell.execute_reply": "2022-03-22T15:34:19.163051Z"
    },
    "papermill": {
     "duration": 0.336934,
     "end_time": "2022-03-22T15:34:19.164326",
     "exception": false,
     "start_time": "2022-03-22T15:34:18.827392",
     "status": "completed"
    },
    "tags": []
   },
   "outputs": [],
   "source": [
    "from math import ceil\n",
    "import numpy as np\n",
    "import pandas as pd\n",
    "import cv2\n",
    "import pathlib\n",
    "from tqdm.notebook import tqdm"
   ]
  },
  {
   "cell_type": "code",
   "execution_count": 4,
   "id": "0d2574a8",
   "metadata": {
    "execution": {
     "iopub.execute_input": "2022-03-22T15:34:19.169367Z",
     "iopub.status.busy": "2022-03-22T15:34:19.169285Z",
     "iopub.status.idle": "2022-03-22T15:34:19.170792Z",
     "shell.execute_reply": "2022-03-22T15:34:19.170580Z"
    },
    "papermill": {
     "duration": 0.004872,
     "end_time": "2022-03-22T15:34:19.171588",
     "exception": false,
     "start_time": "2022-03-22T15:34:19.166716",
     "status": "completed"
    },
    "tags": []
   },
   "outputs": [],
   "source": [
    "N_SAMPLES = 200\n",
    "SCALE = .125"
   ]
  },
  {
   "cell_type": "code",
   "execution_count": 5,
   "id": "6dcc7db6",
   "metadata": {
    "execution": {
     "iopub.execute_input": "2022-03-22T15:34:19.176469Z",
     "iopub.status.busy": "2022-03-22T15:34:19.176392Z",
     "iopub.status.idle": "2022-03-22T15:34:19.763543Z",
     "shell.execute_reply": "2022-03-22T15:34:19.763264Z"
    },
    "papermill": {
     "duration": 0.590603,
     "end_time": "2022-03-22T15:34:19.764387",
     "exception": false,
     "start_time": "2022-03-22T15:34:19.173784",
     "status": "completed"
    },
    "tags": []
   },
   "outputs": [
    {
     "data": {
      "application/vnd.jupyter.widget-view+json": {
       "model_id": "71ae65a7f8224ba990f17822c066b118",
       "version_major": 2,
       "version_minor": 0
      },
      "text/plain": [
       "  0%|          | 0/200 [00:00<?, ?it/s]"
      ]
     },
     "metadata": {},
     "output_type": "display_data"
    }
   ],
   "source": [
    "image_labels = pd.read_csv(\"data/training_norm.csv\")\n",
    "image_dir = pathlib.Path(\"data/training_data/training_data/\")\n",
    "image_paths = [\n",
    "        (int(f.name[:-4]), f)\n",
    "        for f in image_dir.glob(\"*.png\")\n",
    "        if f.stat().st_size > 0\n",
    "]\n",
    "\n",
    "# Get an index of the files (to be used with the image labels)\n",
    "index = np.array(sorted([i[0] for i in image_paths]), dtype=\"int\")\n",
    "assert (image_labels[\"image_id\"].values == index).all()\n",
    "\n",
    "# Allow n to be a fraction or integer number\n",
    "label_matrix = image_labels.values\n",
    "n_vals = index.shape[0]\n",
    "if N_SAMPLES == 0:\n",
    "    instances = n_vals\n",
    "elif N_SAMPLES < 1:\n",
    "    instances = int(ceil(n_vals * N_SAMPLES))\n",
    "else:\n",
    "    instances = N_SAMPLES\n",
    "\n",
    "\n",
    "# Select some random indices\n",
    "rng = np.random.default_rng()\n",
    "subset_indices = rng.choice(index, size=instances, replace=False).astype(\"float\")\n",
    "\n",
    "# Take the rows corresponding to those indices (how is this so hard??)\n",
    "s_labels = np.delete(\n",
    "    label_matrix[            # Get only the elements of label_matrix matching the following\n",
    "        np.apply_along_axis( # Generate a boolean mask of elements which have been selected or not\n",
    "            lambda x: x[0] in subset_indices, 1, label_matrix\n",
    "        )\n",
    "    ], 0, 1                  # Delete the 0th element from axis 0 (the \"image_id\" column which we no longer need)\n",
    ")\n",
    "\n",
    "# Take the file paths corresponding to those indices\n",
    "s_paths = filter(lambda x: x[0] in subset_indices, image_paths)\n",
    "\n",
    "img_shape = list((SCALE * np.array([320, 480], dtype=\"int\")).astype(\"int\"))\n",
    "\n",
    "# Load images from the list of paths\n",
    "def load_img(p):\n",
    "    return cv2.resize(\n",
    "        cv2.cvtColor(\n",
    "            cv2.imread(str(p[1])), # Load the image from the file path\n",
    "            cv2.COLOR_RGB2YUV     # Flatten the colours into grayscale\n",
    "        ),\n",
    "        img_shape                    # Resize the image to the \"RESCALE\" shape\n",
    "    ) / 255 # Normalize the image\n",
    "\n",
    "s_img = [load_img(f) for f in tqdm(s_paths, total=instances)]\n",
    "s_img = np.swapaxes(np.stack(s_img), 1, 2)"
   ]
  },
  {
   "cell_type": "code",
   "execution_count": 6,
   "id": "c61e7b0b",
   "metadata": {
    "execution": {
     "iopub.execute_input": "2022-03-22T15:34:19.770459Z",
     "iopub.status.busy": "2022-03-22T15:34:19.770366Z",
     "iopub.status.idle": "2022-03-22T15:34:19.774239Z",
     "shell.execute_reply": "2022-03-22T15:34:19.774052Z"
    },
    "papermill": {
     "duration": 0.007821,
     "end_time": "2022-03-22T15:34:19.775047",
     "exception": false,
     "start_time": "2022-03-22T15:34:19.767226",
     "status": "completed"
    },
    "tags": []
   },
   "outputs": [
    {
     "data": {
      "text/plain": [
       "(200, 40, 60, 3)"
      ]
     },
     "execution_count": 6,
     "metadata": {},
     "output_type": "execute_result"
    }
   ],
   "source": [
    "s_img.shape"
   ]
  },
  {
   "cell_type": "code",
   "execution_count": 7,
   "id": "6937f49f",
   "metadata": {
    "execution": {
     "iopub.execute_input": "2022-03-22T15:34:19.780660Z",
     "iopub.status.busy": "2022-03-22T15:34:19.780584Z",
     "iopub.status.idle": "2022-03-22T15:34:19.829405Z",
     "shell.execute_reply": "2022-03-22T15:34:19.829164Z"
    },
    "papermill": {
     "duration": 0.052666,
     "end_time": "2022-03-22T15:34:19.830347",
     "exception": false,
     "start_time": "2022-03-22T15:34:19.777681",
     "status": "completed"
    },
    "tags": []
   },
   "outputs": [],
   "source": [
    "np.save(\"products/img-loaded\", s_img)\n",
    "np.save(\"products/lab-loaded\", s_labels)"
   ]
  }
 ],
 "metadata": {
  "jupytext": {
   "cell_metadata_filter": "tags,-all",
   "main_language": "python",
   "notebook_metadata_filter": "-all",
   "text_representation": {
    "extension": ".py",
    "format_name": "percent"
   }
  },
  "kernelspec": {
   "display_name": "Python 3 (ipykernel)",
   "language": "python",
   "name": "python3"
  },
  "language_info": {
   "codemirror_mode": {
    "name": "ipython",
    "version": 3
   },
   "file_extension": ".py",
   "mimetype": "text/x-python",
   "name": "python",
   "nbconvert_exporter": "python",
   "pygments_lexer": "ipython3",
   "version": "3.9.10"
  },
  "papermill": {
   "duration": 4.40962,
   "end_time": "2022-03-22T15:34:22.453137",
   "exception": null,
   "input_path": "/var/folders/29/5z9shwj13pz12wjwt8rxbzp00000gn/T/tmp6d0v78cm.ipynb",
   "output_path": "/Users/ellis/Documents/MSc/2. MLiS II/picar/executed-notebooks/load-data.ipynb",
   "parameters": {
    "product": {
     "images": "/Users/ellis/Documents/MSc/2. MLiS II/picar/products/img-loaded.npy",
     "labels": "/Users/ellis/Documents/MSc/2. MLiS II/picar/products/lab-loaded.npy",
     "nb": "/Users/ellis/Documents/MSc/2. MLiS II/picar/executed-notebooks/load-data.ipynb"
    }
   },
   "start_time": "2022-03-22T15:34:18.043517"
  },
  "widgets": {
   "application/vnd.jupyter.widget-state+json": {
    "state": {
     "0d0c6c22c0f342caba1fe770857e8af2": {
      "model_module": "@jupyter-widgets/controls",
      "model_module_version": "1.5.0",
      "model_name": "DescriptionStyleModel",
      "state": {
       "_model_module": "@jupyter-widgets/controls",
       "_model_module_version": "1.5.0",
       "_model_name": "DescriptionStyleModel",
       "_view_count": null,
       "_view_module": "@jupyter-widgets/base",
       "_view_module_version": "1.2.0",
       "_view_name": "StyleView",
       "description_width": ""
      }
     },
     "230c5c2d73c44085aea02463defe858f": {
      "model_module": "@jupyter-widgets/base",
      "model_module_version": "1.2.0",
      "model_name": "LayoutModel",
      "state": {
       "_model_module": "@jupyter-widgets/base",
       "_model_module_version": "1.2.0",
       "_model_name": "LayoutModel",
       "_view_count": null,
       "_view_module": "@jupyter-widgets/base",
       "_view_module_version": "1.2.0",
       "_view_name": "LayoutView",
       "align_content": null,
       "align_items": null,
       "align_self": null,
       "border": null,
       "bottom": null,
       "display": null,
       "flex": null,
       "flex_flow": null,
       "grid_area": null,
       "grid_auto_columns": null,
       "grid_auto_flow": null,
       "grid_auto_rows": null,
       "grid_column": null,
       "grid_gap": null,
       "grid_row": null,
       "grid_template_areas": null,
       "grid_template_columns": null,
       "grid_template_rows": null,
       "height": null,
       "justify_content": null,
       "justify_items": null,
       "left": null,
       "margin": null,
       "max_height": null,
       "max_width": null,
       "min_height": null,
       "min_width": null,
       "object_fit": null,
       "object_position": null,
       "order": null,
       "overflow": null,
       "overflow_x": null,
       "overflow_y": null,
       "padding": null,
       "right": null,
       "top": null,
       "visibility": null,
       "width": null
      }
     },
     "4c6a1291d1494580bba3eb97ea70d4a2": {
      "model_module": "@jupyter-widgets/base",
      "model_module_version": "1.2.0",
      "model_name": "LayoutModel",
      "state": {
       "_model_module": "@jupyter-widgets/base",
       "_model_module_version": "1.2.0",
       "_model_name": "LayoutModel",
       "_view_count": null,
       "_view_module": "@jupyter-widgets/base",
       "_view_module_version": "1.2.0",
       "_view_name": "LayoutView",
       "align_content": null,
       "align_items": null,
       "align_self": null,
       "border": null,
       "bottom": null,
       "display": null,
       "flex": null,
       "flex_flow": null,
       "grid_area": null,
       "grid_auto_columns": null,
       "grid_auto_flow": null,
       "grid_auto_rows": null,
       "grid_column": null,
       "grid_gap": null,
       "grid_row": null,
       "grid_template_areas": null,
       "grid_template_columns": null,
       "grid_template_rows": null,
       "height": null,
       "justify_content": null,
       "justify_items": null,
       "left": null,
       "margin": null,
       "max_height": null,
       "max_width": null,
       "min_height": null,
       "min_width": null,
       "object_fit": null,
       "object_position": null,
       "order": null,
       "overflow": null,
       "overflow_x": null,
       "overflow_y": null,
       "padding": null,
       "right": null,
       "top": null,
       "visibility": null,
       "width": null
      }
     },
     "4c81dad8a9f8474b99ed39cbd160e325": {
      "model_module": "@jupyter-widgets/base",
      "model_module_version": "1.2.0",
      "model_name": "LayoutModel",
      "state": {
       "_model_module": "@jupyter-widgets/base",
       "_model_module_version": "1.2.0",
       "_model_name": "LayoutModel",
       "_view_count": null,
       "_view_module": "@jupyter-widgets/base",
       "_view_module_version": "1.2.0",
       "_view_name": "LayoutView",
       "align_content": null,
       "align_items": null,
       "align_self": null,
       "border": null,
       "bottom": null,
       "display": null,
       "flex": null,
       "flex_flow": null,
       "grid_area": null,
       "grid_auto_columns": null,
       "grid_auto_flow": null,
       "grid_auto_rows": null,
       "grid_column": null,
       "grid_gap": null,
       "grid_row": null,
       "grid_template_areas": null,
       "grid_template_columns": null,
       "grid_template_rows": null,
       "height": null,
       "justify_content": null,
       "justify_items": null,
       "left": null,
       "margin": null,
       "max_height": null,
       "max_width": null,
       "min_height": null,
       "min_width": null,
       "object_fit": null,
       "object_position": null,
       "order": null,
       "overflow": null,
       "overflow_x": null,
       "overflow_y": null,
       "padding": null,
       "right": null,
       "top": null,
       "visibility": null,
       "width": null
      }
     },
     "7005b58f20e04f53bdb46bc72a02e439": {
      "model_module": "@jupyter-widgets/controls",
      "model_module_version": "1.5.0",
      "model_name": "DescriptionStyleModel",
      "state": {
       "_model_module": "@jupyter-widgets/controls",
       "_model_module_version": "1.5.0",
       "_model_name": "DescriptionStyleModel",
       "_view_count": null,
       "_view_module": "@jupyter-widgets/base",
       "_view_module_version": "1.2.0",
       "_view_name": "StyleView",
       "description_width": ""
      }
     },
     "71ae65a7f8224ba990f17822c066b118": {
      "model_module": "@jupyter-widgets/controls",
      "model_module_version": "1.5.0",
      "model_name": "HBoxModel",
      "state": {
       "_dom_classes": [],
       "_model_module": "@jupyter-widgets/controls",
       "_model_module_version": "1.5.0",
       "_model_name": "HBoxModel",
       "_view_count": null,
       "_view_module": "@jupyter-widgets/controls",
       "_view_module_version": "1.5.0",
       "_view_name": "HBoxView",
       "box_style": "",
       "children": [
        "IPY_MODEL_d4a8597fe8534ca8849c7d2576bc90fd",
        "IPY_MODEL_e0f0182a7e3049639a28f6c5eae9faa9",
        "IPY_MODEL_e6f9e24b0de84acba5bf307052c227b6"
       ],
       "layout": "IPY_MODEL_230c5c2d73c44085aea02463defe858f"
      }
     },
     "d4a8597fe8534ca8849c7d2576bc90fd": {
      "model_module": "@jupyter-widgets/controls",
      "model_module_version": "1.5.0",
      "model_name": "HTMLModel",
      "state": {
       "_dom_classes": [],
       "_model_module": "@jupyter-widgets/controls",
       "_model_module_version": "1.5.0",
       "_model_name": "HTMLModel",
       "_view_count": null,
       "_view_module": "@jupyter-widgets/controls",
       "_view_module_version": "1.5.0",
       "_view_name": "HTMLView",
       "description": "",
       "description_tooltip": null,
       "layout": "IPY_MODEL_4c81dad8a9f8474b99ed39cbd160e325",
       "placeholder": "​",
       "style": "IPY_MODEL_7005b58f20e04f53bdb46bc72a02e439",
       "value": "100%"
      }
     },
     "e0f0182a7e3049639a28f6c5eae9faa9": {
      "model_module": "@jupyter-widgets/controls",
      "model_module_version": "1.5.0",
      "model_name": "FloatProgressModel",
      "state": {
       "_dom_classes": [],
       "_model_module": "@jupyter-widgets/controls",
       "_model_module_version": "1.5.0",
       "_model_name": "FloatProgressModel",
       "_view_count": null,
       "_view_module": "@jupyter-widgets/controls",
       "_view_module_version": "1.5.0",
       "_view_name": "ProgressView",
       "bar_style": "success",
       "description": "",
       "description_tooltip": null,
       "layout": "IPY_MODEL_ff00bdadd3db498f9682ccd63a23c374",
       "max": 200.0,
       "min": 0.0,
       "orientation": "horizontal",
       "style": "IPY_MODEL_ee201f624fc746d19b16e427a8c34a60",
       "value": 200.0
      }
     },
     "e6f9e24b0de84acba5bf307052c227b6": {
      "model_module": "@jupyter-widgets/controls",
      "model_module_version": "1.5.0",
      "model_name": "HTMLModel",
      "state": {
       "_dom_classes": [],
       "_model_module": "@jupyter-widgets/controls",
       "_model_module_version": "1.5.0",
       "_model_name": "HTMLModel",
       "_view_count": null,
       "_view_module": "@jupyter-widgets/controls",
       "_view_module_version": "1.5.0",
       "_view_name": "HTMLView",
       "description": "",
       "description_tooltip": null,
       "layout": "IPY_MODEL_4c6a1291d1494580bba3eb97ea70d4a2",
       "placeholder": "​",
       "style": "IPY_MODEL_0d0c6c22c0f342caba1fe770857e8af2",
       "value": " 200/200 [00:00&lt;00:00, 457.18it/s]"
      }
     },
     "ee201f624fc746d19b16e427a8c34a60": {
      "model_module": "@jupyter-widgets/controls",
      "model_module_version": "1.5.0",
      "model_name": "ProgressStyleModel",
      "state": {
       "_model_module": "@jupyter-widgets/controls",
       "_model_module_version": "1.5.0",
       "_model_name": "ProgressStyleModel",
       "_view_count": null,
       "_view_module": "@jupyter-widgets/base",
       "_view_module_version": "1.2.0",
       "_view_name": "StyleView",
       "bar_color": null,
       "description_width": ""
      }
     },
     "ff00bdadd3db498f9682ccd63a23c374": {
      "model_module": "@jupyter-widgets/base",
      "model_module_version": "1.2.0",
      "model_name": "LayoutModel",
      "state": {
       "_model_module": "@jupyter-widgets/base",
       "_model_module_version": "1.2.0",
       "_model_name": "LayoutModel",
       "_view_count": null,
       "_view_module": "@jupyter-widgets/base",
       "_view_module_version": "1.2.0",
       "_view_name": "LayoutView",
       "align_content": null,
       "align_items": null,
       "align_self": null,
       "border": null,
       "bottom": null,
       "display": null,
       "flex": null,
       "flex_flow": null,
       "grid_area": null,
       "grid_auto_columns": null,
       "grid_auto_flow": null,
       "grid_auto_rows": null,
       "grid_column": null,
       "grid_gap": null,
       "grid_row": null,
       "grid_template_areas": null,
       "grid_template_columns": null,
       "grid_template_rows": null,
       "height": null,
       "justify_content": null,
       "justify_items": null,
       "left": null,
       "margin": null,
       "max_height": null,
       "max_width": null,
       "min_height": null,
       "min_width": null,
       "object_fit": null,
       "object_position": null,
       "order": null,
       "overflow": null,
       "overflow_x": null,
       "overflow_y": null,
       "padding": null,
       "right": null,
       "top": null,
       "visibility": null,
       "width": null
      }
     }
    },
    "version_major": 2,
    "version_minor": 0
   }
  }
 },
 "nbformat": 4,
 "nbformat_minor": 5
}