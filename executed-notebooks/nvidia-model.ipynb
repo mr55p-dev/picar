{
 "cells": [
  {
   "cell_type": "code",
   "execution_count": 1,
   "id": "d35a2d07",
   "metadata": {
    "execution": {
     "iopub.execute_input": "2022-03-22T15:34:23.303058Z",
     "iopub.status.busy": "2022-03-22T15:34:23.302575Z",
     "iopub.status.idle": "2022-03-22T15:34:23.314562Z",
     "shell.execute_reply": "2022-03-22T15:34:23.314040Z"
    },
    "papermill": {
     "duration": 0.035242,
     "end_time": "2022-03-22T15:34:23.316609",
     "exception": false,
     "start_time": "2022-03-22T15:34:23.281367",
     "status": "completed"
    },
    "tags": [
     "parameters"
    ]
   },
   "outputs": [],
   "source": [
    "# declare a list tasks whose products you want to use as inputs\n",
    "upstream = ['load-data']"
   ]
  },
  {
   "cell_type": "code",
   "execution_count": 2,
   "id": "9bf3704d",
   "metadata": {
    "execution": {
     "iopub.execute_input": "2022-03-22T15:34:23.331655Z",
     "iopub.status.busy": "2022-03-22T15:34:23.331323Z",
     "iopub.status.idle": "2022-03-22T15:34:23.334252Z",
     "shell.execute_reply": "2022-03-22T15:34:23.333930Z"
    },
    "papermill": {
     "duration": 0.011335,
     "end_time": "2022-03-22T15:34:23.335641",
     "exception": false,
     "start_time": "2022-03-22T15:34:23.324306",
     "status": "completed"
    },
    "tags": [
     "injected-parameters"
    ]
   },
   "outputs": [],
   "source": [
    "# Parameters\n",
    "upstream = {\"load-data\": {\"nb\": \"/Users/ellis/Documents/MSc/2. MLiS II/picar/executed-notebooks/load-data.ipynb\", \"images\": \"/Users/ellis/Documents/MSc/2. MLiS II/picar/products/img-loaded.npy\", \"labels\": \"/Users/ellis/Documents/MSc/2. MLiS II/picar/products/lab-loaded.npy\"}}\n",
    "product = {\"nb\": \"/Users/ellis/Documents/MSc/2. MLiS II/picar/executed-notebooks/nvidia-model.ipynb\", \"model\": \"/Users/ellis/Documents/MSc/2. MLiS II/picar/products/model-nvidia/model\"}\n"
   ]
  },
  {
   "cell_type": "code",
   "execution_count": 3,
   "id": "e827838d",
   "metadata": {
    "execution": {
     "iopub.execute_input": "2022-03-22T15:34:23.346362Z",
     "iopub.status.busy": "2022-03-22T15:34:23.346235Z",
     "iopub.status.idle": "2022-03-22T15:34:25.513028Z",
     "shell.execute_reply": "2022-03-22T15:34:25.512784Z"
    },
    "papermill": {
     "duration": 2.172979,
     "end_time": "2022-03-22T15:34:25.514039",
     "exception": false,
     "start_time": "2022-03-22T15:34:23.341060",
     "status": "completed"
    },
    "tags": []
   },
   "outputs": [],
   "source": [
    "import numpy as np\n",
    "import tensorflow as tf\n",
    "from tensorflow import keras\n",
    "\n",
    "from tensorflow.keras.layers import Dense, MaxPooling2D, Flatten, Conv2D, Dropout\n",
    "from tensorflow.keras.preprocessing.image import ImageDataGenerator"
   ]
  },
  {
   "cell_type": "code",
   "execution_count": 4,
   "id": "ea2d35d9",
   "metadata": {
    "execution": {
     "iopub.execute_input": "2022-03-22T15:34:25.520000Z",
     "iopub.status.busy": "2022-03-22T15:34:25.519912Z",
     "iopub.status.idle": "2022-03-22T15:34:25.533267Z",
     "shell.execute_reply": "2022-03-22T15:34:25.532996Z"
    },
    "papermill": {
     "duration": 0.017325,
     "end_time": "2022-03-22T15:34:25.534261",
     "exception": false,
     "start_time": "2022-03-22T15:34:25.516936",
     "status": "completed"
    },
    "tags": []
   },
   "outputs": [],
   "source": [
    "labels = np.load(upstream['load-data']['labels'])\n",
    "images = np.load(upstream['load-data']['images'])"
   ]
  },
  {
   "cell_type": "code",
   "execution_count": 5,
   "id": "cc125a65",
   "metadata": {
    "execution": {
     "iopub.execute_input": "2022-03-22T15:34:25.541059Z",
     "iopub.status.busy": "2022-03-22T15:34:25.540952Z",
     "iopub.status.idle": "2022-03-22T15:34:25.548330Z",
     "shell.execute_reply": "2022-03-22T15:34:25.548112Z"
    },
    "papermill": {
     "duration": 0.011861,
     "end_time": "2022-03-22T15:34:25.549165",
     "exception": false,
     "start_time": "2022-03-22T15:34:25.537304",
     "status": "completed"
    },
    "tags": []
   },
   "outputs": [
    {
     "data": {
      "text/plain": [
       "1.0"
      ]
     },
     "execution_count": 5,
     "metadata": {},
     "output_type": "execute_result"
    }
   ],
   "source": [
    "images.max()"
   ]
  },
  {
   "cell_type": "code",
   "execution_count": 6,
   "id": "b6b5c414",
   "metadata": {
    "execution": {
     "iopub.execute_input": "2022-03-22T15:34:25.555636Z",
     "iopub.status.busy": "2022-03-22T15:34:25.555555Z",
     "iopub.status.idle": "2022-03-22T15:34:25.557326Z",
     "shell.execute_reply": "2022-03-22T15:34:25.557124Z"
    },
    "papermill": {
     "duration": 0.005868,
     "end_time": "2022-03-22T15:34:25.558142",
     "exception": false,
     "start_time": "2022-03-22T15:34:25.552274",
     "status": "completed"
    },
    "tags": []
   },
   "outputs": [],
   "source": [
    "log_dir = \"products/model-nvidia/train_logs\"\n",
    "tensorboard_callback = tf.keras.callbacks.TensorBoard(log_dir=log_dir, histogram_freq=1)"
   ]
  },
  {
   "cell_type": "code",
   "execution_count": 7,
   "id": "7add33db",
   "metadata": {
    "execution": {
     "iopub.execute_input": "2022-03-22T15:34:25.564552Z",
     "iopub.status.busy": "2022-03-22T15:34:25.564473Z",
     "iopub.status.idle": "2022-03-22T15:34:25.772193Z",
     "shell.execute_reply": "2022-03-22T15:34:25.771939Z"
    },
    "lines_to_next_cell": 0,
    "papermill": {
     "duration": 0.217437,
     "end_time": "2022-03-22T15:34:25.778662",
     "exception": false,
     "start_time": "2022-03-22T15:34:25.561225",
     "status": "completed"
    },
    "tags": [],
    "title": "This is the Nvidia model"
   },
   "outputs": [
    {
     "name": "stdout",
     "output_type": "stream",
     "text": [
      "Metal device set to: Apple M1\n",
      "Model: \"NVidia_model\"\n"
     ]
    },
    {
     "name": "stdout",
     "output_type": "stream",
     "text": [
      "_________________________________________________________________\n"
     ]
    },
    {
     "name": "stdout",
     "output_type": "stream",
     "text": [
      " Layer (type)                Output Shape              Param #   \n"
     ]
    },
    {
     "name": "stdout",
     "output_type": "stream",
     "text": [
      "=================================================================\n"
     ]
    },
    {
     "name": "stdout",
     "output_type": "stream",
     "text": [
      " input_1 (InputLayer)        [(None, 40, 60, 3)]       0         \n"
     ]
    },
    {
     "name": "stdout",
     "output_type": "stream",
     "text": [
      "                                                                 \n"
     ]
    },
    {
     "name": "stdout",
     "output_type": "stream",
     "text": [
      " conv2d (Conv2D)             (None, 18, 28, 24)        1824      \n"
     ]
    },
    {
     "name": "stdout",
     "output_type": "stream",
     "text": [
      "                                                                 \n"
     ]
    },
    {
     "name": "stdout",
     "output_type": "stream",
     "text": [
      " conv2d_1 (Conv2D)           (None, 14, 24, 36)        21636     \n"
     ]
    },
    {
     "name": "stdout",
     "output_type": "stream",
     "text": [
      "                                                                 \n"
     ]
    },
    {
     "name": "stdout",
     "output_type": "stream",
     "text": [
      " conv2d_2 (Conv2D)           (None, 10, 20, 48)        43248     \n"
     ]
    },
    {
     "name": "stdout",
     "output_type": "stream",
     "text": [
      "                                                                 \n"
     ]
    },
    {
     "name": "stdout",
     "output_type": "stream",
     "text": [
      " conv2d_3 (Conv2D)           (None, 8, 18, 64)         27712     \n"
     ]
    },
    {
     "name": "stdout",
     "output_type": "stream",
     "text": [
      "                                                                 \n"
     ]
    },
    {
     "name": "stdout",
     "output_type": "stream",
     "text": [
      " conv2d_4 (Conv2D)           (None, 6, 16, 64)         36928     \n"
     ]
    },
    {
     "name": "stdout",
     "output_type": "stream",
     "text": [
      "                                                                 \n"
     ]
    },
    {
     "name": "stdout",
     "output_type": "stream",
     "text": [
      " flatten (Flatten)           (None, 6144)              0         \n"
     ]
    },
    {
     "name": "stdout",
     "output_type": "stream",
     "text": [
      "                                                                 \n"
     ]
    },
    {
     "name": "stdout",
     "output_type": "stream",
     "text": [
      " dense (Dense)               (None, 1164)              7152780   \n"
     ]
    },
    {
     "name": "stdout",
     "output_type": "stream",
     "text": [
      "                                                                 \n"
     ]
    },
    {
     "name": "stdout",
     "output_type": "stream",
     "text": [
      " dense_1 (Dense)             (None, 50)                58250     \n"
     ]
    },
    {
     "name": "stdout",
     "output_type": "stream",
     "text": [
      "                                                                 \n"
     ]
    },
    {
     "name": "stdout",
     "output_type": "stream",
     "text": [
      " dense_2 (Dense)             (None, 2)                 102       \n"
     ]
    },
    {
     "name": "stdout",
     "output_type": "stream",
     "text": [
      "                                                                 \n"
     ]
    },
    {
     "name": "stdout",
     "output_type": "stream",
     "text": [
      "=================================================================\n"
     ]
    },
    {
     "name": "stdout",
     "output_type": "stream",
     "text": [
      "Total params: 7,342,480\n"
     ]
    },
    {
     "name": "stdout",
     "output_type": "stream",
     "text": [
      "Trainable params: 7,342,480\n"
     ]
    },
    {
     "name": "stdout",
     "output_type": "stream",
     "text": [
      "Non-trainable params: 0\n"
     ]
    },
    {
     "name": "stdout",
     "output_type": "stream",
     "text": [
      "_________________________________________________________________\n"
     ]
    },
    {
     "name": "stderr",
     "output_type": "stream",
     "text": [
      "2022-03-22 15:34:25.575205: I tensorflow/core/common_runtime/pluggable_device/pluggable_device_factory.cc:305] Could not identify NUMA node of platform GPU ID 0, defaulting to 0. Your kernel may not have been built with NUMA support.\n",
      "2022-03-22 15:34:25.575423: I tensorflow/core/common_runtime/pluggable_device/pluggable_device_factory.cc:271] Created TensorFlow device (/job:localhost/replica:0/task:0/device:GPU:0 with 0 MB memory) -> physical PluggableDevice (device: 0, name: METAL, pci bus id: <undefined>)\n"
     ]
    }
   ],
   "source": [
    "inputs = keras.Input(shape=(40, 60, 3))\n",
    "l = Conv2D(24, (5, 5), strides=(2, 2))(inputs)\n",
    "l = Conv2D(36, (5, 5), strides=(1, 1))(l)\n",
    "l = Conv2D(48, (5, 5), strides=(1, 1))(l)\n",
    "l = Conv2D(64, (3, 3), strides=(1, 1))(l)\n",
    "l = Conv2D(64, (3, 3), strides=(1, 1))(l)\n",
    "l = Flatten()(l)\n",
    "l = Dense(1164)(l)\n",
    "l = Dense(50)(l)\n",
    "l = Dense(2)(l)\n",
    "\n",
    "model = keras.Model(inputs=inputs, outputs=l, name=\"NVidia_model\")\n",
    "model.compile(\n",
    "    optimizer=tf.keras.optimizers.Nadam(),\n",
    "    loss=tf.keras.losses.MeanSquaredError(),\n",
    "    metrics=[tf.keras.metrics.Accuracy(), tf.keras.metrics.KLDivergence()]\n",
    ")\n",
    "\n",
    "model.summary()"
   ]
  },
  {
   "cell_type": "code",
   "execution_count": 8,
   "id": "361d9925",
   "metadata": {
    "execution": {
     "iopub.execute_input": "2022-03-22T15:34:25.791685Z",
     "iopub.status.busy": "2022-03-22T15:34:25.791600Z",
     "iopub.status.idle": "2022-03-22T15:34:31.187502Z",
     "shell.execute_reply": "2022-03-22T15:34:31.187029Z"
    },
    "papermill": {
     "duration": 5.40361,
     "end_time": "2022-03-22T15:34:31.188609",
     "exception": false,
     "start_time": "2022-03-22T15:34:25.784999",
     "status": "completed"
    },
    "tags": []
   },
   "outputs": [
    {
     "name": "stdout",
     "output_type": "stream",
     "text": [
      "Epoch 1/2\n"
     ]
    },
    {
     "name": "stderr",
     "output_type": "stream",
     "text": [
      "2022-03-22 15:34:25.841849: W tensorflow/core/platform/profile_utils/cpu_utils.cc:128] Failed to get CPU frequency: 0 Hz\n"
     ]
    },
    {
     "name": "stderr",
     "output_type": "stream",
     "text": [
      "2022-03-22 15:34:26.397472: I tensorflow/core/grappler/optimizers/custom_graph_optimizer_registry.cc:113] Plugin optimizer for device_type GPU is enabled.\n"
     ]
    },
    {
     "name": "stdout",
     "output_type": "stream",
     "text": [
      "\r",
      "1/2 [==============>...............] - ETA: 1s - loss: 0.2008 - accuracy: 0.0000e+00 - kullback_leibler_divergence: 1.2975"
     ]
    },
    {
     "name": "stdout",
     "output_type": "stream",
     "text": [
      "\b\b\b\b\b\b\b\b\b\b\b\b\b\b\b\b\b\b\b\b\b\b\b\b\b\b\b\b\b\b\b\b\b\b\b\b\b\b\b\b\b\b\b\b\b\b\b\b\b\b\b\b\b\b\b\b\b\b\b\b\b\b\b\b\b\b\b\b\b\b\b\b\b\b\b\b\b\b\b\b\b\b\b\b\b\b\b\b\b\b\b\b\b\b\b\b\b\b\b\b\b\b\b\b\b\b\b\b\b\b\b\b\b\b\b\b\b\b\b\b\b\b\r",
      "2/2 [==============================] - ETA: 0s - loss: 2813.1240 - accuracy: 0.0000e+00 - kullback_leibler_divergence: 0.6996"
     ]
    },
    {
     "name": "stderr",
     "output_type": "stream",
     "text": [
      "2022-03-22 15:34:27.291234: I tensorflow/core/grappler/optimizers/custom_graph_optimizer_registry.cc:113] Plugin optimizer for device_type GPU is enabled.\n"
     ]
    },
    {
     "name": "stdout",
     "output_type": "stream",
     "text": [
      "\b\b\b\b\b\b\b\b\b\b\b\b\b\b\b\b\b\b\b\b\b\b\b\b\b\b\b\b\b\b\b\b\b\b\b\b\b\b\b\b\b\b\b\b\b\b\b\b\b\b\b\b\b\b\b\b\b\b\b\b\b\b\b\b\b\b\b\b\b\b\b\b\b\b\b\b\b\b\b\b\b\b\b\b\b\b\b\b\b\b\b\b\b\b\b\b\b\b\b\b\b\b\b\b\b\b\b\b\b\b\b\b\b\b\b\b\b\b\b\b\b\b\b\b\b\r",
      "2/2 [==============================] - 4s 2s/step - loss: 2813.1240 - accuracy: 0.0000e+00 - kullback_leibler_divergence: 0.6996 - val_loss: 20950.2871 - val_accuracy: 0.0000e+00 - val_kullback_leibler_divergence: 22.0122\n"
     ]
    },
    {
     "name": "stdout",
     "output_type": "stream",
     "text": [
      "Epoch 2/2\n"
     ]
    },
    {
     "name": "stdout",
     "output_type": "stream",
     "text": [
      "\r",
      "1/2 [==============>...............] - ETA: 0s - loss: 20723.8672 - accuracy: 0.0000e+00 - kullback_leibler_divergence: 21.6847"
     ]
    },
    {
     "name": "stdout",
     "output_type": "stream",
     "text": [
      "\b\b\b\b\b\b\b\b\b\b\b\b\b\b\b\b\b\b\b\b\b\b\b\b\b\b\b\b\b\b\b\b\b\b\b\b\b\b\b\b\b\b\b\b\b\b\b\b\b\b\b\b\b\b\b\b\b\b\b\b\b\b\b\b\b\b\b\b\b\b\b\b\b\b\b\b\b\b\b\b\b\b\b\b\b\b\b\b\b\b\b\b\b\b\b\b\b\b\b\b\b\b\b\b\b\b\b\b\b\b\b\b\b\b\b\b\b\b\b\b\b\b\b\b\b\b\b\r",
      "2/2 [==============================] - ETA: 0s - loss: 13114.0020 - accuracy: 0.0000e+00 - kullback_leibler_divergence: 13.4439"
     ]
    },
    {
     "name": "stdout",
     "output_type": "stream",
     "text": [
      "\b\b\b\b\b\b\b\b\b\b\b\b\b\b\b\b\b\b\b\b\b\b\b\b\b\b\b\b\b\b\b\b\b\b\b\b\b\b\b\b\b\b\b\b\b\b\b\b\b\b\b\b\b\b\b\b\b\b\b\b\b\b\b\b\b\b\b\b\b\b\b\b\b\b\b\b\b\b\b\b\b\b\b\b\b\b\b\b\b\b\b\b\b\b\b\b\b\b\b\b\b\b\b\b\b\b\b\b\b\b\b\b\b\b\b\b\b\b\b\b\b\b\b\b\b\b\b\r",
      "2/2 [==============================] - 2s 2s/step - loss: 13114.0020 - accuracy: 0.0000e+00 - kullback_leibler_divergence: 13.4439 - val_loss: 109.6314 - val_accuracy: 0.0000e+00 - val_kullback_leibler_divergence: -0.2761\n"
     ]
    }
   ],
   "source": [
    "x = model.fit(\n",
    "    images,\n",
    "    labels,\n",
    "    epochs=2,\n",
    "    batch_size=100,\n",
    "    validation_split=0.2,\n",
    "    callbacks=[tensorboard_callback]\n",
    ")"
   ]
  },
  {
   "cell_type": "code",
   "execution_count": 9,
   "id": "28afcb06",
   "metadata": {
    "execution": {
     "iopub.execute_input": "2022-03-22T15:34:31.205630Z",
     "iopub.status.busy": "2022-03-22T15:34:31.205410Z",
     "iopub.status.idle": "2022-03-22T15:34:32.354317Z",
     "shell.execute_reply": "2022-03-22T15:34:32.354080Z"
    },
    "papermill": {
     "duration": 1.158218,
     "end_time": "2022-03-22T15:34:32.355347",
     "exception": false,
     "start_time": "2022-03-22T15:34:31.197129",
     "status": "completed"
    },
    "tags": []
   },
   "outputs": [
    {
     "name": "stderr",
     "output_type": "stream",
     "text": [
      "2022-03-22 15:34:31.398541: W tensorflow/python/util/util.cc:368] Sets are not currently considered sequences, but this may change in the future, so consider avoiding using them.\n"
     ]
    },
    {
     "name": "stdout",
     "output_type": "stream",
     "text": [
      "INFO:tensorflow:Assets written to: products/model-nvidia/model/assets\n"
     ]
    }
   ],
   "source": [
    "model.save(\"products/model-nvidia/model\")"
   ]
  }
 ],
 "metadata": {
  "jupytext": {
   "cell_metadata_filter": "tags,title,-all",
   "main_language": "python",
   "notebook_metadata_filter": "-all",
   "text_representation": {
    "extension": ".py",
    "format_name": "percent"
   }
  },
  "kernelspec": {
   "display_name": "Python 3 (ipykernel)",
   "language": "python",
   "name": "python3"
  },
  "language_info": {
   "codemirror_mode": {
    "name": "ipython",
    "version": 3
   },
   "file_extension": ".py",
   "mimetype": "text/x-python",
   "name": "python",
   "nbconvert_exporter": "python",
   "pygments_lexer": "ipython3",
   "version": "3.9.10"
  },
  "papermill": {
   "duration": 13.10181,
   "end_time": "2022-03-22T15:34:35.608244",
   "exception": null,
   "input_path": "/var/folders/29/5z9shwj13pz12wjwt8rxbzp00000gn/T/tmpjpgvqu_s.ipynb",
   "output_path": "/Users/ellis/Documents/MSc/2. MLiS II/picar/executed-notebooks/nvidia-model.ipynb",
   "parameters": {
    "product": {
     "model": "/Users/ellis/Documents/MSc/2. MLiS II/picar/products/model-nvidia/model",
     "nb": "/Users/ellis/Documents/MSc/2. MLiS II/picar/executed-notebooks/nvidia-model.ipynb"
    },
    "upstream": {
     "load-data": {
      "images": "/Users/ellis/Documents/MSc/2. MLiS II/picar/products/img-loaded.npy",
      "labels": "/Users/ellis/Documents/MSc/2. MLiS II/picar/products/lab-loaded.npy",
      "nb": "/Users/ellis/Documents/MSc/2. MLiS II/picar/executed-notebooks/load-data.ipynb"
     }
    }
   },
   "start_time": "2022-03-22T15:34:22.506434"
  }
 },
 "nbformat": 4,
 "nbformat_minor": 5
}